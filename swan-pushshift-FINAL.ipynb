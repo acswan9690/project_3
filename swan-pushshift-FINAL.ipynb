{
 "cells": [
  {
   "cell_type": "code",
   "execution_count": null,
   "id": "a46cf479-0388-47a7-94ca-a72debd59ff7",
   "metadata": {},
   "outputs": [],
   "source": [
    "import requests\n",
    "import pandas as pd\n",
    "import time"
   ]
  },
  {
   "cell_type": "code",
   "execution_count": null,
   "id": "e3e1b3d0-4ad0-4cfe-a515-379241d59a8e",
   "metadata": {},
   "outputs": [],
   "source": [
    "def scrape_a_lot(iters, subreddit_name):\n",
    "    url = 'https://api.pushshift.io/reddit/search/submission'\n",
    "    params = {\n",
    "        'subreddit': subreddit_name,\n",
    "        'size': 100,\n",
    "    }\n",
    "    res = requests.get(url, params)\n",
    "    posts = res.json()['data']\n",
    "    df = pd.DataFrame(posts)[['subreddit', 'title', 'selftext', 'created_utc']]\n",
    "    for num in range(iters):\n",
    "        time.sleep(1)\n",
    "        params = {\n",
    "        'subreddit': subreddit_name,\n",
    "        'size': 100,\n",
    "        'before': df['created_utc'].iloc[-1]\n",
    "    }\n",
    "        res = requests.get(url, params)\n",
    "        posts = res.json()['data']\n",
    "        df_new = pd.DataFrame(posts)[['subreddit', 'title', 'selftext', 'created_utc']]\n",
    "        df = pd.concat([df, df_new])\n",
    "    print(df.shape)\n",
    "    return df.to_csv('./data/reddit_' + subreddit_name.lower() + '_data.csv')"
   ]
  },
  {
   "cell_type": "code",
   "execution_count": null,
   "id": "8fda38ce-6eee-4201-9cd6-31d253d535ab",
   "metadata": {},
   "outputs": [],
   "source": [
    "scrape_a_lot(150, 'ecology')"
   ]
  },
  {
   "cell_type": "code",
   "execution_count": null,
   "id": "c4916d5c-92a5-486a-9045-0b647b91c8e4",
   "metadata": {},
   "outputs": [],
   "source": [
    "scrape_a_lot(100, 'environment_science')"
   ]
  }
 ],
 "metadata": {
  "kernelspec": {
   "display_name": "Python [conda env:dsi] *",
   "language": "python",
   "name": "conda-env-dsi-py"
  },
  "language_info": {
   "codemirror_mode": {
    "name": "ipython",
    "version": 3
   },
   "file_extension": ".py",
   "mimetype": "text/x-python",
   "name": "python",
   "nbconvert_exporter": "python",
   "pygments_lexer": "ipython3",
   "version": "3.8.8"
  }
 },
 "nbformat": 4,
 "nbformat_minor": 5
}
