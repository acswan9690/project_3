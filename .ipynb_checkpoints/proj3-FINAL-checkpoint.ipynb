{
 "cells": [
  {
   "cell_type": "markdown",
   "id": "3d122349-5bdc-48e2-8e10-598417d65d33",
   "metadata": {},
   "source": [
    "# Project 3 - Reddit, NLP, and Classification Modeling"
   ]
  },
  {
   "cell_type": "markdown",
   "id": "ca184303-08eb-42dc-b316-c61e02f9c788",
   "metadata": {
    "tags": []
   },
   "source": [
    "### Table of Contents - Quick Links\n",
    "---\n",
    "\n",
    "- [Problem Statement](#problem-statement)\n",
    "- [Libraries](#libraries)\n",
    "- [Helper Function](#helper-functions)\n",
    "- [Data Files](#data-files)\n",
    "- [Feature Engineering](#feature-engineering)\n",
    "- [EDA](#eda)\n",
    "- [Modeling](#modeling)\n",
    "\n",
    "    -[Naive Bayes](#naive-bayes)\n",
    "    \n",
    "    -[Random Forest](#random-forest)\n",
    "    \n",
    "    -[SVM](#svm)\n",
    "- [Scoring and Evaluation](#scoring-and-evaluation)\n",
    "- [Conclusiong and Inferences](#conclusion-and-inferences)"
   ]
  },
  {
   "cell_type": "markdown",
   "id": "b0fd8bf5-4132-43b2-b7b1-0476668cb875",
   "metadata": {},
   "source": [
    "<a id='problem-statement'></a>\n",
    "### Problem Statement\n",
    "---"
   ]
  },
  {
   "cell_type": "markdown",
   "id": "d41c2a5f-f04d-437a-8ba8-cc380e84a0dc",
   "metadata": {},
   "source": [
    "Pulling data from two subreddits, r/ecology and r/environmental_science, can we predict which subreddit our input was written on?  Additionally, what can we infere about each subreddit's post content from processing the language used there."
   ]
  },
  {
   "cell_type": "markdown",
   "id": "51f834a1-4e57-4c51-98c1-42f8256c6fe0",
   "metadata": {},
   "source": [
    "<a id='libraries'></a>\n",
    "### Libraries\n",
    "---"
   ]
  },
  {
   "cell_type": "code",
   "execution_count": 1,
   "id": "955d1be3-c5ba-4e1f-b3cb-6f6c7e74590b",
   "metadata": {},
   "outputs": [],
   "source": [
    "import numpy as np\n",
    "import pandas as pd\n",
    "import matplotlib.pyplot as plt\n",
    "import seaborn as sns\n",
    "\n",
    "import nltk\n",
    "\n",
    "from sklearn.feature_extraction.text import CountVectorizer\n",
    "from sklearn.model_selection import train_test_split, GridSearchCV\n",
    "from sklearn.pipeline import Pipeline\n",
    "from sklearn.naive_bayes import MultinomialNB\n",
    "from sklearn.feature_extraction.text import CountVectorizer, TfidfVectorizer\n",
    "from sklearn.ensemble import RandomForestClassifier\n",
    "from sklearn.svm import SVC\n",
    "from sklearn.metrics import confusion_matrix, plot_confusion_matrix\n",
    "from sklearn import metrics\n",
    "from sklearn.linear_model import LogisticRegression\n",
    "\n",
    "%matplotlib inline"
   ]
  },
  {
   "cell_type": "markdown",
   "id": "58ae96f3-7a30-4796-8d0b-8f6a7a60ebaf",
   "metadata": {},
   "source": [
    "<a id='helper-functions'></a>\n",
    "### Helper Functions\n",
    "---"
   ]
  },
  {
   "cell_type": "code",
   "execution_count": 34,
   "id": "6b00f48e-2b65-48b6-bce3-e21c22a0a038",
   "metadata": {},
   "outputs": [],
   "source": [
    "def add_stop_words(stopwords_lst, word_lst):\n",
    "    '''\n",
    "    quick way to add stop words to the english stop words list\n",
    "    '''\n",
    "    for word in word_lst:\n",
    "        stopwords_lst.append(word)"
   ]
  },
  {
   "cell_type": "code",
   "execution_count": 35,
   "id": "a69137ce-aaef-404a-bb83-e10f638c7cda",
   "metadata": {},
   "outputs": [],
   "source": [
    "def scrape_a_lot(iters, subreddit_name):\n",
    "    '''\n",
    "    a function that takes in your desired number of pulls (iterations * 100 posts) \n",
    "    and the subreddit name to easily compile and export a csv file containing subreddit \n",
    "    name, title, body text, and utc code.\n",
    "    '''\n",
    "    url = 'https://api.pushshift.io/reddit/search/submission'\n",
    "    params = {\n",
    "        'subreddit': subreddit_name,\n",
    "        'size': 100,\n",
    "    }\n",
    "    res = requests.get(url, params)\n",
    "    posts = res.json()['data']\n",
    "    df = pd.DataFrame(posts)[['subreddit', 'title', 'selftext', 'created_utc']]\n",
    "    for num in range(iters):\n",
    "        time.sleep(1)\n",
    "        params = {\n",
    "        'subreddit': subreddit_name,\n",
    "        'size': 100,\n",
    "        'before': df['created_utc'].iloc[-1]\n",
    "    }\n",
    "        res = requests.get(url, params)\n",
    "        posts = res.json()['data']\n",
    "        df_new = pd.DataFrame(posts)[['subreddit', 'title', 'selftext', 'created_utc']]\n",
    "        df = pd.concat([df, df_new])\n",
    "    print(df.shape)\n",
    "    return df.to_csv('./data/reddit_' + subreddit_name.lower() + '_data.csv')"
   ]
  },
  {
   "cell_type": "markdown",
   "id": "104e4863-13fa-4852-bb74-db23b6b753d8",
   "metadata": {},
   "source": [
    "<a id='data-files'></a>\n",
    "### Data Files\n",
    "---"
   ]
  },
  {
   "cell_type": "markdown",
   "id": "92f55128-aea5-4488-b0cf-7b6841de07ac",
   "metadata": {},
   "source": [
    "There was minimal cleaning done this data besides dropping body text that was empty and an unneeded index column."
   ]
  },
  {
   "cell_type": "code",
   "execution_count": 2,
   "id": "2e7535a2-ba6a-4c8c-a6b1-36fa954b9bc2",
   "metadata": {},
   "outputs": [
    {
     "data": {
      "text/plain": [
       "(7594, 5)"
      ]
     },
     "execution_count": 2,
     "metadata": {},
     "output_type": "execute_result"
    }
   ],
   "source": [
    "eco_df = pd.read_csv('data/reddit_ecology_data.csv')\n",
    "eco_df.shape"
   ]
  },
  {
   "cell_type": "code",
   "execution_count": 3,
   "id": "4b7805ee-0aa9-456d-9f44-1dd8a88b1995",
   "metadata": {},
   "outputs": [
    {
     "data": {
      "text/plain": [
       "(5099, 5)"
      ]
     },
     "execution_count": 3,
     "metadata": {},
     "output_type": "execute_result"
    }
   ],
   "source": [
    "env_df = pd.read_csv('data/reddit_environmental_science_data.csv')\n",
    "env_df.shape"
   ]
  },
  {
   "cell_type": "code",
   "execution_count": 38,
   "id": "88881a6c-7e39-4526-8f41-fccc1125947d",
   "metadata": {},
   "outputs": [
    {
     "data": {
      "text/plain": [
       "(2889, 4)"
      ]
     },
     "execution_count": 38,
     "metadata": {},
     "output_type": "execute_result"
    }
   ],
   "source": [
    "eco_df.dropna(inplace=True)\n",
    "eco_df.drop(columns=['Unnamed: 0'], inplace=True)\n",
    "eco_df.shape"
   ]
  },
  {
   "cell_type": "code",
   "execution_count": 39,
   "id": "e826f767-5bc8-4562-b32f-6a7e01d481ad",
   "metadata": {},
   "outputs": [
    {
     "data": {
      "text/plain": [
       "(2970, 4)"
      ]
     },
     "execution_count": 39,
     "metadata": {},
     "output_type": "execute_result"
    }
   ],
   "source": [
    "env_df.dropna(inplace=True)\n",
    "env_df.drop(columns=['Unnamed: 0'], inplace=True)\n",
    "env_df.shape"
   ]
  },
  {
   "cell_type": "code",
   "execution_count": 40,
   "id": "6697cc17-4d6a-4456-858a-380d100e8197",
   "metadata": {},
   "outputs": [
    {
     "data": {
      "text/html": [
       "<div>\n",
       "<style scoped>\n",
       "    .dataframe tbody tr th:only-of-type {\n",
       "        vertical-align: middle;\n",
       "    }\n",
       "\n",
       "    .dataframe tbody tr th {\n",
       "        vertical-align: top;\n",
       "    }\n",
       "\n",
       "    .dataframe thead th {\n",
       "        text-align: right;\n",
       "    }\n",
       "</style>\n",
       "<table border=\"1\" class=\"dataframe\">\n",
       "  <thead>\n",
       "    <tr style=\"text-align: right;\">\n",
       "      <th></th>\n",
       "      <th>subreddit</th>\n",
       "      <th>title</th>\n",
       "      <th>selftext</th>\n",
       "      <th>created_utc</th>\n",
       "    </tr>\n",
       "  </thead>\n",
       "  <tbody>\n",
       "    <tr>\n",
       "      <th>1</th>\n",
       "      <td>ecology</td>\n",
       "      <td>Why isn't plant communication a more popular t...</td>\n",
       "      <td>I first learned about this in my undergrad, un...</td>\n",
       "      <td>1631303117</td>\n",
       "    </tr>\n",
       "    <tr>\n",
       "      <th>4</th>\n",
       "      <td>ecology</td>\n",
       "      <td>Video tutorial on the most important functions...</td>\n",
       "      <td>Hi everyone, just a quick follow-up to my last...</td>\n",
       "      <td>1631285381</td>\n",
       "    </tr>\n",
       "    <tr>\n",
       "      <th>6</th>\n",
       "      <td>ecology</td>\n",
       "      <td>Can you work for a nonprofit with a masters?</td>\n",
       "      <td>I tried to see if another person had asked thi...</td>\n",
       "      <td>1631202355</td>\n",
       "    </tr>\n",
       "    <tr>\n",
       "      <th>7</th>\n",
       "      <td>ecology</td>\n",
       "      <td>Does atmospheric humidity enter the gaseous ph...</td>\n",
       "      <td>From what I understand, the gas phase of soil ...</td>\n",
       "      <td>1631173134</td>\n",
       "    </tr>\n",
       "    <tr>\n",
       "      <th>8</th>\n",
       "      <td>ecology</td>\n",
       "      <td>Is biological matter increasing?</td>\n",
       "      <td>As I understand it, plants and protists kick a...</td>\n",
       "      <td>1631165828</td>\n",
       "    </tr>\n",
       "  </tbody>\n",
       "</table>\n",
       "</div>"
      ],
      "text/plain": [
       "  subreddit                                              title  \\\n",
       "1   ecology  Why isn't plant communication a more popular t...   \n",
       "4   ecology  Video tutorial on the most important functions...   \n",
       "6   ecology       Can you work for a nonprofit with a masters?   \n",
       "7   ecology  Does atmospheric humidity enter the gaseous ph...   \n",
       "8   ecology                   Is biological matter increasing?   \n",
       "\n",
       "                                            selftext  created_utc  \n",
       "1  I first learned about this in my undergrad, un...   1631303117  \n",
       "4  Hi everyone, just a quick follow-up to my last...   1631285381  \n",
       "6  I tried to see if another person had asked thi...   1631202355  \n",
       "7  From what I understand, the gas phase of soil ...   1631173134  \n",
       "8  As I understand it, plants and protists kick a...   1631165828  "
      ]
     },
     "execution_count": 40,
     "metadata": {},
     "output_type": "execute_result"
    }
   ],
   "source": [
    "eco_df.head()"
   ]
  },
  {
   "cell_type": "code",
   "execution_count": 41,
   "id": "92d42fb9-6286-495a-b99c-7c1d2d3ca797",
   "metadata": {},
   "outputs": [
    {
     "data": {
      "text/html": [
       "<div>\n",
       "<style scoped>\n",
       "    .dataframe tbody tr th:only-of-type {\n",
       "        vertical-align: middle;\n",
       "    }\n",
       "\n",
       "    .dataframe tbody tr th {\n",
       "        vertical-align: top;\n",
       "    }\n",
       "\n",
       "    .dataframe thead th {\n",
       "        text-align: right;\n",
       "    }\n",
       "</style>\n",
       "<table border=\"1\" class=\"dataframe\">\n",
       "  <thead>\n",
       "    <tr style=\"text-align: right;\">\n",
       "      <th></th>\n",
       "      <th>subreddit</th>\n",
       "      <th>title</th>\n",
       "      <th>selftext</th>\n",
       "      <th>created_utc</th>\n",
       "    </tr>\n",
       "  </thead>\n",
       "  <tbody>\n",
       "    <tr>\n",
       "      <th>1</th>\n",
       "      <td>environmental_science</td>\n",
       "      <td>College sophomore considering a BA in Environm...</td>\n",
       "      <td>Hi everyone I’m a sophomore and college and I’...</td>\n",
       "      <td>1631044466</td>\n",
       "    </tr>\n",
       "    <tr>\n",
       "      <th>2</th>\n",
       "      <td>environmental_science</td>\n",
       "      <td>What modules should I pick career wise?</td>\n",
       "      <td>Hi guys so I'm a third year environmental scie...</td>\n",
       "      <td>1631043893</td>\n",
       "    </tr>\n",
       "    <tr>\n",
       "      <th>3</th>\n",
       "      <td>environmental_science</td>\n",
       "      <td>Graduates of Environmental Science, what have ...</td>\n",
       "      <td>Not strictly about actual science per se... I ...</td>\n",
       "      <td>1631038267</td>\n",
       "    </tr>\n",
       "    <tr>\n",
       "      <th>5</th>\n",
       "      <td>environmental_science</td>\n",
       "      <td>Masters Program Advice</td>\n",
       "      <td>Hi all, I have a bachelors in CS and I'm searc...</td>\n",
       "      <td>1631006821</td>\n",
       "    </tr>\n",
       "    <tr>\n",
       "      <th>6</th>\n",
       "      <td>environmental_science</td>\n",
       "      <td>Ecosystem Services Valuation</td>\n",
       "      <td>[removed]</td>\n",
       "      <td>1631000441</td>\n",
       "    </tr>\n",
       "  </tbody>\n",
       "</table>\n",
       "</div>"
      ],
      "text/plain": [
       "               subreddit                                              title  \\\n",
       "1  environmental_science  College sophomore considering a BA in Environm...   \n",
       "2  environmental_science            What modules should I pick career wise?   \n",
       "3  environmental_science  Graduates of Environmental Science, what have ...   \n",
       "5  environmental_science                             Masters Program Advice   \n",
       "6  environmental_science                       Ecosystem Services Valuation   \n",
       "\n",
       "                                            selftext  created_utc  \n",
       "1  Hi everyone I’m a sophomore and college and I’...   1631044466  \n",
       "2  Hi guys so I'm a third year environmental scie...   1631043893  \n",
       "3  Not strictly about actual science per se... I ...   1631038267  \n",
       "5  Hi all, I have a bachelors in CS and I'm searc...   1631006821  \n",
       "6                                          [removed]   1631000441  "
      ]
     },
     "execution_count": 41,
     "metadata": {},
     "output_type": "execute_result"
    }
   ],
   "source": [
    "env_df.head()"
   ]
  },
  {
   "cell_type": "markdown",
   "id": "2fae0b68-237f-4d8b-933a-f07f552530ce",
   "metadata": {},
   "source": [
    "<a id='feature-engineering'></a>\n",
    "### Feature Engineering\n",
    "---"
   ]
  },
  {
   "cell_type": "markdown",
   "id": "c458d14b-2332-4c5c-9663-5725aa09ebca",
   "metadata": {},
   "source": [
    "Create word and character count columns for ecology and env science dfs"
   ]
  },
  {
   "cell_type": "code",
   "execution_count": 42,
   "id": "91044568-25b0-4029-a821-2ffbf86f79e7",
   "metadata": {},
   "outputs": [],
   "source": [
    "eco_df['body_char_count'] = [len(x) for x in eco_df['selftext']]\n",
    "eco_df['body_word_count'] = [len(x.split()) for x in eco_df['selftext']]\n",
    "eco_df['title_char_count'] = [len(x) for x in eco_df['title']]\n",
    "eco_df['title_word_count'] = [len(x.split()) for x in eco_df['title']]\n",
    "eco_df['target'] = 1"
   ]
  },
  {
   "cell_type": "code",
   "execution_count": 43,
   "id": "aff892ba-6617-4486-afd4-3e6de06b4f50",
   "metadata": {},
   "outputs": [],
   "source": [
    "env_df['body_char_count'] = [len(x) for x in env_df['selftext']]\n",
    "env_df['body_word_count'] = [len(x.split()) for x in env_df['selftext']]\n",
    "env_df['title_char_count'] = [len(x) for x in env_df['title']]\n",
    "env_df['title_word_count'] = [len(x.split()) for x in env_df['title']]\n",
    "env_df['target'] = 0"
   ]
  },
  {
   "cell_type": "markdown",
   "id": "492f3556-4642-4730-bbda-13d8828f30b3",
   "metadata": {},
   "source": [
    "<a id='eda'></a>\n",
    "### EDA\n",
    "---"
   ]
  },
  {
   "cell_type": "markdown",
   "id": "ebc5aa0e-9366-44fe-84a5-a006d1f4729d",
   "metadata": {},
   "source": [
    "Update our stop words list for ecology using one of our helper functions.  Removing useless words and the title of the subreddit."
   ]
  },
  {
   "cell_type": "code",
   "execution_count": 44,
   "id": "3f4fecd9-a221-4e65-8ac2-625ee72e6e36",
   "metadata": {},
   "outputs": [],
   "source": [
    "eco_stopwords = nltk.corpus.stopwords.words('english')\n",
    "eco_stopwords_lst = ['ecology', 'www', 'https', 'com', 'amp', 'x200b']\n",
    "\n",
    "add_stop_words(eco_stopwords, eco_stopwords_lst)"
   ]
  },
  {
   "cell_type": "markdown",
   "id": "b86fdecd-2a67-4e02-8053-0ffc45adc494",
   "metadata": {},
   "source": [
    "Explore our top 25 single words."
   ]
  },
  {
   "cell_type": "code",
   "execution_count": 45,
   "id": "c7954613-af69-432e-83b8-4abfcdc9f0c2",
   "metadata": {},
   "outputs": [
    {
     "data": {
      "text/plain": [
       "would            1486\n",
       "like             1144\n",
       "species           896\n",
       "know              786\n",
       "work              768\n",
       "field             699\n",
       "one               685\n",
       "get               677\n",
       "also              664\n",
       "could             602\n",
       "research          594\n",
       "want              581\n",
       "time              566\n",
       "anyone            543\n",
       "help              533\n",
       "find              514\n",
       "job               511\n",
       "looking           494\n",
       "really            493\n",
       "environmental     476\n",
       "much              467\n",
       "data              455\n",
       "year              450\n",
       "thanks            447\n",
       "experience        423\n",
       "dtype: int64"
      ]
     },
     "execution_count": 45,
     "metadata": {},
     "output_type": "execute_result"
    }
   ],
   "source": [
    "eco_cvec = CountVectorizer(stop_words=eco_stopwords)\n",
    "eco_x = eco_cvec.fit(eco_df['selftext'])\n",
    "eco_x = eco_cvec.transform(eco_df['selftext'])\n",
    "eco_x = pd.DataFrame(eco_x.todense(), columns=eco_cvec.get_feature_names())\n",
    "\n",
    "eco_x.sum().sort_values(ascending=False).head(25)"
   ]
  },
  {
   "cell_type": "code",
   "execution_count": 46,
   "id": "a48a6bbe-7670-4321-9bfe-88081ba51f78",
   "metadata": {},
   "outputs": [
    {
     "data": {
      "image/png": "[encoded data removed]",
      "text/plain": [
       "<Figure size 432x288 with 1 Axes>"
      ]
     },
     "metadata": {
      "needs_background": "light"
     },
     "output_type": "display_data"
    }
   ],
   "source": [
    "eco_x.sum().sort_values(ascending=False).head(15).plot(kind='barh')\n",
    "plt.xlabel('Word Occurances')\n",
    "plt.ylabel('Word')\n",
    "plt.title('Top 15 Most Common Words in r/Ecology');"
   ]
  },
  {
   "cell_type": "markdown",
   "id": "33800be1-5d40-49bf-b9cd-eaf4f8df18b3",
   "metadata": {},
   "source": [
    "Check out two word n-grams appearing more than twice."
   ]
  },
  {
   "cell_type": "code",
   "execution_count": 47,
   "id": "0603c5c2-6ae4-4593-a81b-9f408797e9da",
   "metadata": {},
   "outputs": [
    {
     "data": {
      "text/plain": [
       "would like               167\n",
       "hi everyone              131\n",
       "climate change           108\n",
       "feel free                108\n",
       "open access              104\n",
       "environmental science    102\n",
       "grad school               99\n",
       "field work                93\n",
       "please feel               92\n",
       "thanks advance            91\n",
       "fair game                 87\n",
       "questions comments        86\n",
       "find open                 86\n",
       "discuss article           86\n",
       "access link               86\n",
       "article comments          85\n",
       "free discuss              85\n",
       "anything remotely         85\n",
       "like questions            85\n",
       "comments anything         85\n",
       "remotely relevant         85\n",
       "relevant fair             85\n",
       "comments like             85\n",
       "onlinelibrary wiley       82\n",
       "wiley doi                 82\n",
       "dtype: int64"
      ]
     },
     "execution_count": 47,
     "metadata": {},
     "output_type": "execute_result"
    }
   ],
   "source": [
    "eco_cvec_n = CountVectorizer(stop_words=eco_stopwords, ngram_range=(2,2))\n",
    "eco_x_n = eco_cvec_n.fit(eco_df['selftext'])\n",
    "eco_x_n = eco_cvec_n.transform(eco_df['selftext'])\n",
    "eco_x_n = pd.DataFrame(eco_x_n.todense(), columns=eco_cvec_n.get_feature_names())\n",
    "\n",
    "eco_x_n.sum().sort_values(ascending=False).head(25)"
   ]
  },
  {
   "cell_type": "markdown",
   "id": "d5db403c-92bb-4065-b73b-aea47e1cf78c",
   "metadata": {},
   "source": [
    "Update our stop words list for env sci using one of our helper functions.  Removing useless words and the title of the subreddit."
   ]
  },
  {
   "cell_type": "code",
   "execution_count": 48,
   "id": "cc0d7aef-73c0-46a3-b5f2-dfe414eb9ce1",
   "metadata": {},
   "outputs": [],
   "source": [
    "env_stopwords = nltk.corpus.stopwords.words('english')\n",
    "env_stopwords_lst = ['removed', 'environmental', 'science', 'https', 'www', 'amp', 'x200b']\n",
    "\n",
    "add_stop_words(env_stopwords, env_stopwords_lst)"
   ]
  },
  {
   "cell_type": "code",
   "execution_count": 49,
   "id": "83763c71-371a-484d-9885-d6e2ca9b32e9",
   "metadata": {},
   "outputs": [
    {
     "data": {
      "text/plain": [
       "would         1422\n",
       "like           900\n",
       "work           841\n",
       "job            769\n",
       "get            717\n",
       "field          685\n",
       "know           628\n",
       "degree         619\n",
       "want           616\n",
       "really         550\n",
       "also           498\n",
       "school         475\n",
       "experience     456\n",
       "anyone         456\n",
       "looking        451\n",
       "time           450\n",
       "one            439\n",
       "could          437\n",
       "research       399\n",
       "career         394\n",
       "help           391\n",
       "working        384\n",
       "year           373\n",
       "major          359\n",
       "much           359\n",
       "dtype: int64"
      ]
     },
     "execution_count": 49,
     "metadata": {},
     "output_type": "execute_result"
    }
   ],
   "source": [
    "env_cvec = CountVectorizer(stop_words=env_stopwords)\n",
    "env_x = env_cvec.fit(env_df['selftext'])\n",
    "env_x = env_cvec.transform(env_df['selftext'])\n",
    "env_x = pd.DataFrame(env_x.todense(), columns=env_cvec.get_feature_names())\n",
    "\n",
    "env_x.sum().sort_values(ascending=False).head(25)"
   ]
  },
  {
   "cell_type": "code",
   "execution_count": 50,
   "id": "b52c1a5d-1e2b-4c60-8889-c528d5b5780b",
   "metadata": {},
   "outputs": [
    {
     "data": {
      "image/png": "[encoded data removed]",
      "text/plain": [
       "<Figure size 432x288 with 1 Axes>"
      ]
     },
     "metadata": {
      "needs_background": "light"
     },
     "output_type": "display_data"
    }
   ],
   "source": [
    "env_x.sum().sort_values(ascending=False).head(15).plot(kind='barh', color='green')\n",
    "plt.xlabel('Word Occurances')\n",
    "plt.ylabel('Word')\n",
    "plt.title('Top 15 Most Common Words in r/Environmental Science');"
   ]
  },
  {
   "cell_type": "markdown",
   "id": "35fd2129-c210-4756-8735-f5204bbdd255",
   "metadata": {},
   "source": [
    "Check two word n-grams for env science."
   ]
  },
  {
   "cell_type": "code",
   "execution_count": 51,
   "id": "5b33b279-1156-416e-8602-797c0a14fa7c",
   "metadata": {},
   "outputs": [
    {
     "data": {
      "text/plain": [
       "climate change         128\n",
       "would like             128\n",
       "feel like               97\n",
       "field work              80\n",
       "grad school             77\n",
       "would love              72\n",
       "high school             71\n",
       "entry level             62\n",
       "thanks advance          60\n",
       "hi everyone             59\n",
       "greatly appreciated     59\n",
       "find job                54\n",
       "full time               52\n",
       "wondering anyone        52\n",
       "would greatly           51\n",
       "anyone know             49\n",
       "really want             47\n",
       "hey guys                47\n",
       "community college       46\n",
       "seems like              46\n",
       "advice would            46\n",
       "want work               43\n",
       "get job                 42\n",
       "think would             40\n",
       "back school             38\n",
       "dtype: int64"
      ]
     },
     "execution_count": 51,
     "metadata": {},
     "output_type": "execute_result"
    }
   ],
   "source": [
    "env_cvec_n = CountVectorizer(stop_words=env_stopwords, ngram_range=(2,2))\n",
    "env_x_n = env_cvec_n.fit(env_df['selftext'])\n",
    "env_x_n = env_cvec_n.transform(env_df['selftext'])\n",
    "env_x_n = pd.DataFrame(env_x_n.todense(), columns=env_cvec_n.get_feature_names())\n",
    "\n",
    "env_x_n.sum().sort_values(ascending=False).head(25)"
   ]
  },
  {
   "cell_type": "markdown",
   "id": "23863e8f-2253-4ce3-a8b8-d53c31ff03fd",
   "metadata": {},
   "source": [
    "Compare the top 10 words between our subreddits.  \n",
    "\n",
    "Words in common:\n",
    "1. Would\n",
    "2. Like\n",
    "3. Work\n",
    "4. Field\n",
    "5. Get\n",
    "6. Know"
   ]
  },
  {
   "cell_type": "code",
   "execution_count": 52,
   "id": "44087327-8c2b-4053-9f9c-0806e0830abc",
   "metadata": {},
   "outputs": [
    {
     "data": {
      "image/png": "[encoded data removed]",
      "text/plain": [
       "<Figure size 1152x432 with 2 Axes>"
      ]
     },
     "metadata": {
      "needs_background": "light"
     },
     "output_type": "display_data"
    }
   ],
   "source": [
    "fig, ax = plt.subplots(1, 2, figsize=(16, 6))\n",
    "eco_x.sum().sort_values(ascending=False).head(10).plot(kind='barh', ax=ax[0], fontsize=14)\n",
    "env_x.sum().sort_values(ascending=False).head(10).plot(kind='barh', ax=ax[1], fontsize=14, color='green')\n",
    "\n",
    "ax[0].set_title('Ecology', fontsize=18)\n",
    "ax[1].set_title('Environmental Science', fontsize=18)\n",
    "ax[0].invert_yaxis()\n",
    "ax[1].invert_yaxis()\n",
    "\n",
    "fig.suptitle('Top 10 Words in Post Body', fontsize=24)\n",
    "fig.text(0.5, 0.02, 'Number of Occurances', ha='center', fontsize=18);"
   ]
  },
  {
   "cell_type": "markdown",
   "id": "de964312-8dc8-43b8-9e06-893cd9b59e1e",
   "metadata": {},
   "source": [
    "Visualize body text two word n-grams.\n",
    "\n",
    "N-grams in common:\n",
    "1. Would like\n",
    "2. Grad school\n",
    "3. Thanks advance\n",
    "4. Field work\n",
    "5. Climate change"
   ]
  },
  {
   "cell_type": "code",
   "execution_count": 53,
   "id": "3f9b74c1-7525-48e9-92f8-7e857e8dd848",
   "metadata": {},
   "outputs": [
    {
     "data": {
      "image/png": "[encoded data removed]",
      "text/plain": [
       "<Figure size 1152x432 with 2 Axes>"
      ]
     },
     "metadata": {
      "needs_background": "light"
     },
     "output_type": "display_data"
    }
   ],
   "source": [
    "fig, ax = plt.subplots(1, 2, figsize=(16, 6))\n",
    "eco_x_n.sum().sort_values(ascending=False).head(10).plot(kind='barh', ax=ax[0], fontsize=14)\n",
    "env_x_n.sum().sort_values(ascending=False).head(10).plot(kind='barh', ax=ax[1], fontsize=14, color='green')\n",
    "\n",
    "ax[0].set_title('Ecology', fontsize=18)\n",
    "ax[1].set_title('Environmental Science', fontsize=18)\n",
    "ax[0].invert_yaxis()\n",
    "ax[1].invert_yaxis()\n",
    "\n",
    "fig.suptitle('Top 10 Two Word N-grams in Post Body', fontsize=24)\n",
    "fig.text(0.5, -.02, 'Number of Occurances', ha='center', fontsize=18)\n",
    "fig.tight_layout();"
   ]
  },
  {
   "cell_type": "markdown",
   "id": "81f9f527-2c57-4765-825f-9b89a40d98b9",
   "metadata": {},
   "source": [
    "Next I wanted to check out title words for our data sets."
   ]
  },
  {
   "cell_type": "code",
   "execution_count": 54,
   "id": "69152d4d-c38c-4c79-b5c7-04058b917204",
   "metadata": {},
   "outputs": [
    {
     "data": {
      "text/plain": [
       "help             177\n",
       "species          112\n",
       "ecological       112\n",
       "advice           103\n",
       "field            100\n",
       "looking           99\n",
       "question          99\n",
       "article           92\n",
       "week              91\n",
       "research          90\n",
       "open              87\n",
       "career            82\n",
       "school            81\n",
       "job               74\n",
       "anyone            74\n",
       "need              73\n",
       "conservation      69\n",
       "data              68\n",
       "would             68\n",
       "good              68\n",
       "work              68\n",
       "environmental     67\n",
       "plant             64\n",
       "grad              64\n",
       "science           62\n",
       "dtype: int64"
      ]
     },
     "execution_count": 54,
     "metadata": {},
     "output_type": "execute_result"
    }
   ],
   "source": [
    "eco_titles_cvec = CountVectorizer(stop_words=eco_stopwords)\n",
    "eco_titles = eco_titles_cvec.fit(eco_df['title'])\n",
    "eco_titles = eco_titles_cvec.transform(eco_df['title'])\n",
    "eco_titles = pd.DataFrame(eco_titles.todense(), columns=eco_titles_cvec.get_feature_names())\n",
    "\n",
    "eco_titles.sum().sort_values(ascending=False).head(25)"
   ]
  },
  {
   "cell_type": "code",
   "execution_count": 55,
   "id": "95f8a9ba-5dba-4f2a-ba22-73ddaab504c5",
   "metadata": {},
   "outputs": [
    {
     "data": {
      "text/plain": [
       "advice         189\n",
       "help           186\n",
       "job            155\n",
       "career         151\n",
       "degree         147\n",
       "major          129\n",
       "looking        104\n",
       "need            95\n",
       "field           95\n",
       "jobs            89\n",
       "work            87\n",
       "would           85\n",
       "question        84\n",
       "climate         83\n",
       "environment     80\n",
       "research        77\n",
       "vs              77\n",
       "change          77\n",
       "masters         76\n",
       "get             73\n",
       "school          72\n",
       "engineering     71\n",
       "water           70\n",
       "anyone          69\n",
       "good            61\n",
       "dtype: int64"
      ]
     },
     "execution_count": 55,
     "metadata": {},
     "output_type": "execute_result"
    }
   ],
   "source": [
    "env_titles_cvec = CountVectorizer(stop_words=env_stopwords)\n",
    "env_titles = env_titles_cvec.fit(env_df['title'])\n",
    "env_titles = env_titles_cvec.transform(env_df['title'])\n",
    "env_titles = pd.DataFrame(env_titles.todense(), columns=env_titles_cvec.get_feature_names())\n",
    "\n",
    "env_titles.sum().sort_values(ascending=False).head(25)"
   ]
  },
  {
   "cell_type": "code",
   "execution_count": 56,
   "id": "29f9e85a-f979-4369-8f70-6e0ad4f0a4e5",
   "metadata": {},
   "outputs": [
    {
     "data": {
      "text/plain": [
       "article week             85\n",
       "open article             79\n",
       "grad school              42\n",
       "climate change           32\n",
       "field work               26\n",
       "need help                24\n",
       "environmental science    19\n",
       "career advice            17\n",
       "anyone know              17\n",
       "discord server           15\n",
       "graduate school          12\n",
       "eco friendly             11\n",
       "invasive species         11\n",
       "book recommendations     11\n",
       "high school              11\n",
       "please help              10\n",
       "plant species            10\n",
       "looking advice            9\n",
       "endangered species        8\n",
       "career path               8\n",
       "wildlife conservation     8\n",
       "need advice               7\n",
       "water quality             7\n",
       "wildlife biology          7\n",
       "fish wildlife             7\n",
       "dtype: int64"
      ]
     },
     "execution_count": 56,
     "metadata": {},
     "output_type": "execute_result"
    }
   ],
   "source": [
    "eco_titles_cvec_n = CountVectorizer(stop_words=eco_stopwords, ngram_range=(2,2))\n",
    "eco_titles_n = eco_titles_cvec_n.fit(eco_df['title'])\n",
    "eco_titles_n = eco_titles_cvec_n.transform(eco_df['title'])\n",
    "eco_titles_n = pd.DataFrame(eco_titles_n.todense(), columns=eco_titles_cvec_n.get_feature_names())\n",
    "\n",
    "eco_titles_n.sum().sort_values(ascending=False).head(25)"
   ]
  },
  {
   "cell_type": "code",
   "execution_count": 57,
   "id": "fc41134d-86a1-44d5-86fc-874582c33770",
   "metadata": {},
   "outputs": [
    {
     "data": {
      "text/plain": [
       "climate change           53\n",
       "career advice            28\n",
       "need help                26\n",
       "grad school              22\n",
       "need advice              22\n",
       "entry level              22\n",
       "masters degree           17\n",
       "env sci                  14\n",
       "seeking advice           14\n",
       "get job                  13\n",
       "career path              12\n",
       "global warming           12\n",
       "please help              11\n",
       "high school              11\n",
       "field work               11\n",
       "health safety            10\n",
       "training announcement    10\n",
       "looking advice            9\n",
       "water quality             9\n",
       "getting job               9\n",
       "advice needed             9\n",
       "masters program           9\n",
       "graduate school           9\n",
       "find job                  9\n",
       "double major              9\n",
       "dtype: int64"
      ]
     },
     "execution_count": 57,
     "metadata": {},
     "output_type": "execute_result"
    }
   ],
   "source": [
    "env_titles_cvec_n = CountVectorizer(stop_words=env_stopwords, ngram_range=(2,2))\n",
    "env_titles_n = env_titles_cvec_n.fit(env_df['title'])\n",
    "env_titles_n = env_titles_cvec_n.transform(env_df['title'])\n",
    "env_titles_n = pd.DataFrame(env_titles_n.todense(), columns=env_titles_cvec_n.get_feature_names())\n",
    "\n",
    "env_titles_n.sum().sort_values(ascending=False).head(25)"
   ]
  },
  {
   "cell_type": "markdown",
   "id": "60212de3-61be-4fbb-868f-a6ef9638762e",
   "metadata": {},
   "source": [
    "Visualize our top 10 title words.\n",
    "\n",
    "Words in common:\n",
    "1. Help\n",
    "2. Advice\n",
    "3. Field\n",
    "4. Looking"
   ]
  },
  {
   "cell_type": "code",
   "execution_count": 58,
   "id": "54d3c428-7cd2-45a9-94f7-5bd0f235995e",
   "metadata": {},
   "outputs": [
    {
     "data": {
      "image/png": "[encoded data removed]",
      "text/plain": [
       "<Figure size 1152x432 with 2 Axes>"
      ]
     },
     "metadata": {
      "needs_background": "light"
     },
     "output_type": "display_data"
    }
   ],
   "source": [
    "fig, ax = plt.subplots(1, 2, figsize=(16, 6))\n",
    "eco_titles.sum().sort_values(ascending=False).head(10).plot(kind='barh', ax=ax[0], fontsize=14)\n",
    "env_titles.sum().sort_values(ascending=False).head(10).plot(kind='barh', ax=ax[1], fontsize=14, color='green')\n",
    "\n",
    "ax[0].set_title('Ecology', fontsize=18)\n",
    "ax[1].set_title('Environmental Science', fontsize=18)\n",
    "ax[0].invert_yaxis()\n",
    "ax[1].invert_yaxis()\n",
    "\n",
    "fig.suptitle('Top 10 Words in Post Titles', fontsize=24)\n",
    "fig.text(0.5, 0.02, 'Number of Occurances', ha='center', fontsize=18);"
   ]
  },
  {
   "cell_type": "markdown",
   "id": "a594ab4b-97a4-4904-b241-f9c8476b9b7f",
   "metadata": {},
   "source": [
    "Visualize our top 10 n-grams in post titles.\n",
    "\n",
    "N-grams in common:\n",
    "1. Climate change\n",
    "2. Need help\n",
    "3. Career advice"
   ]
  },
  {
   "cell_type": "code",
   "execution_count": 59,
   "id": "c7150db7-386e-454c-9e31-76032a319a13",
   "metadata": {
    "tags": []
   },
   "outputs": [
    {
     "data": {
      "image/png": "[encoded data removed]",
      "text/plain": [
       "<Figure size 1152x432 with 2 Axes>"
      ]
     },
     "metadata": {
      "needs_background": "light"
     },
     "output_type": "display_data"
    }
   ],
   "source": [
    "fig, ax = plt.subplots(1, 2, figsize=(16, 6))\n",
    "eco_titles_n.sum().sort_values(ascending=False).head(10).plot(kind='barh', ax=ax[0], fontsize=14)\n",
    "env_titles_n.sum().sort_values(ascending=False).head(10).plot(kind='barh', ax=ax[1], fontsize=14, color='green')\n",
    "\n",
    "ax[0].set_title('Ecology', fontsize=18)\n",
    "ax[1].set_title('Environmental Science', fontsize=18)\n",
    "ax[0].invert_yaxis()\n",
    "ax[1].invert_yaxis()\n",
    "\n",
    "fig.suptitle('Top 10 Two Word N-grams in Post Titles', fontsize=24)\n",
    "fig.text(0.5, -.02, 'Number of Occurances', ha='center', fontsize=18)\n",
    "fig.tight_layout();"
   ]
  },
  {
   "cell_type": "markdown",
   "id": "ce8164ed-cd60-49dd-bc3b-ad86e7cc7188",
   "metadata": {},
   "source": [
    "I wanted to see if either subreddit happened to have a pattern of post and title lengths, looks like ecology posts tend to be longer and ecology titles are slightly longer."
   ]
  },
  {
   "cell_type": "code",
   "execution_count": 60,
   "id": "a6265b91-1b01-44ae-a3b3-9c4c1361b948",
   "metadata": {},
   "outputs": [
    {
     "name": "stdout",
     "output_type": "stream",
     "text": [
      "Ecology body text mean char count: 656.269643475251\n",
      "Ecology body text mean word count: 106.8681204569055\n",
      "---\n",
      "Env sci body text mean char count: 426.8\n",
      "Env sci body text mean char count: 72.48754208754208\n",
      "---\n",
      "Ecology title  mean char count: 58.92834890965732\n",
      "Ecology title mean word count: 9.262720664589823\n",
      "---\n",
      "Env sci title  mean char count: 55.18249158249158\n",
      "Env sci title mean word count: 8.563299663299663\n"
     ]
    }
   ],
   "source": [
    "print(f\"Ecology body text mean char count: {eco_df['body_char_count'].mean()}\")\n",
    "print(f\"Ecology body text mean word count: {eco_df['body_word_count'].mean()}\")\n",
    "print('---')\n",
    "print(f\"Env sci body text mean char count: {env_df['body_char_count'].mean()}\")\n",
    "print(f\"Env sci body text mean char count: {env_df['body_word_count'].mean()}\")\n",
    "print('---')\n",
    "print(f\"Ecology title  mean char count: {eco_df['title_char_count'].mean()}\")\n",
    "print(f\"Ecology title mean word count: {eco_df['title_word_count'].mean()}\")\n",
    "print('---')\n",
    "print(f\"Env sci title  mean char count: {env_df['title_char_count'].mean()}\")\n",
    "print(f\"Env sci title mean word count: {env_df['title_word_count'].mean()}\")"
   ]
  },
  {
   "cell_type": "code",
   "execution_count": 61,
   "id": "624c1fbb-d4c8-4ba9-9ccb-7528e9550c75",
   "metadata": {},
   "outputs": [],
   "source": [
    "trimmed_eco_df = eco_df.loc[eco_df['body_word_count'] < 600]"
   ]
  },
  {
   "cell_type": "markdown",
   "id": "f4636f46-3988-4c5c-a466-804b6a86a058",
   "metadata": {},
   "source": [
    "As we could have predicted from our means above, the distribution of word count in r/Ecology has lower count in its first bin, but the second bin shows a much higher number of words."
   ]
  },
  {
   "cell_type": "code",
   "execution_count": 62,
   "id": "45bda0a4-4727-4bd3-af4f-0e7264596b85",
   "metadata": {},
   "outputs": [
    {
     "data": {
      "image/png": "[encoded data removed]",
      "text/plain": [
       "<Figure size 432x288 with 1 Axes>"
      ]
     },
     "metadata": {
      "needs_background": "light"
     },
     "output_type": "display_data"
    }
   ],
   "source": [
    "plt.hist(trimmed_eco_df['body_word_count'])\n",
    "plt.xlabel('Body Text Word Count')\n",
    "plt.ylabel('Number of Occurances')\n",
    "plt.title('Distribution of Body Word Count in r/Ecology');"
   ]
  },
  {
   "cell_type": "code",
   "execution_count": 63,
   "id": "a62d6e0d-b5ba-4250-8932-99561420192c",
   "metadata": {},
   "outputs": [],
   "source": [
    "trimmed_env_df = env_df.loc[env_df['body_word_count'] < 600]"
   ]
  },
  {
   "cell_type": "markdown",
   "id": "9a6a41ac-512f-44df-bbf5-73da884c3c10",
   "metadata": {},
   "source": [
    "On the other side, the distribution of word count in r/Env Sci has a higher count in its first bin but lower counts going out after that."
   ]
  },
  {
   "cell_type": "code",
   "execution_count": 64,
   "id": "186933a6-8b9d-49cc-a5a2-c13ea5bb73a9",
   "metadata": {},
   "outputs": [
    {
     "data": {
      "image/png": "[encoded data removed]",
      "text/plain": [
       "<Figure size 432x288 with 1 Axes>"
      ]
     },
     "metadata": {
      "needs_background": "light"
     },
     "output_type": "display_data"
    }
   ],
   "source": [
    "plt.hist(trimmed_env_df['body_word_count'], color='green')\n",
    "plt.xlabel('Body Text Word Count')\n",
    "plt.ylabel('Number of Occurances')\n",
    "plt.title('Distribution of Body Word Count in r/Environmental Science');"
   ]
  },
  {
   "cell_type": "code",
   "execution_count": 128,
   "id": "dc8f67bc-007d-48a1-bda9-cf90c5957b31",
   "metadata": {},
   "outputs": [],
   "source": [
    "import warnings\n",
    "warnings.filterwarnings(\"ignore\")"
   ]
  },
  {
   "cell_type": "markdown",
   "id": "1b3d781a-2b86-438a-ad9e-4a4501450713",
   "metadata": {},
   "source": [
    "We can get an additional visualization of our post word count with a box plot showing us our quartiles, mean, and outliers.\n",
    "\n",
    "r/Ecology has more short posts than r/Env Sci but also has more longer posts."
   ]
  },
  {
   "cell_type": "code",
   "execution_count": 129,
   "id": "293461d0-eabb-4898-a361-e11f645a87d8",
   "metadata": {},
   "outputs": [
    {
     "data": {
      "image/png": "[encoded data removed]",
      "text/plain": [
       "<Figure size 432x288 with 1 Axes>"
      ]
     },
     "metadata": {
      "needs_background": "light"
     },
     "output_type": "display_data"
    }
   ],
   "source": [
    "sns.boxplot(trimmed_eco_df['body_word_count'])\n",
    "plt.xlabel('Body Text Word Count')\n",
    "plt.ylabel('Number of Occurances')\n",
    "plt.title('Boxplot of r/Ecology Body Text Word Count');"
   ]
  },
  {
   "cell_type": "markdown",
   "id": "d07aee25-dd67-4a39-9db9-865d0ef409a5",
   "metadata": {},
   "source": [
    "r/Env Sci's shortest posts are longer than r/Ecology but beyond that its posts are generally shorter."
   ]
  },
  {
   "cell_type": "code",
   "execution_count": 130,
   "id": "10458827-7b87-4164-98e4-5e0ba8b13574",
   "metadata": {},
   "outputs": [
    {
     "data": {
      "image/png": "[encoded data removed]",
      "text/plain": [
       "<Figure size 432x288 with 1 Axes>"
      ]
     },
     "metadata": {
      "needs_background": "light"
     },
     "output_type": "display_data"
    }
   ],
   "source": [
    "sns.boxplot(trimmed_env_df['body_word_count'], color='green')\n",
    "plt.xlabel('Body Text Word Count')\n",
    "plt.ylabel('Number of Occurances')\n",
    "plt.title('Boxplot of r/Environmental Science Body Text Word Count');"
   ]
  },
  {
   "cell_type": "markdown",
   "id": "83d9c267-ce27-4d87-a1e4-5a16f916ed07",
   "metadata": {},
   "source": [
    "I then got the means of the above box plots:"
   ]
  },
  {
   "cell_type": "code",
   "execution_count": 125,
   "id": "7b480030-965c-46ef-b59f-60627f4dd278",
   "metadata": {},
   "outputs": [
    {
     "name": "stdout",
     "output_type": "stream",
     "text": [
      "Trimmed r/Ecology word count mean is: 96.69281961471103\n",
      "Trimmed r/Env Sci word count mean is: 69.63353617308992\n"
     ]
    }
   ],
   "source": [
    "print(f\"Trimmed r/Ecology word count mean is: {trimmed_eco_df['body_word_count'].mean()}\")\n",
    "print(f\"Trimmed r/Env Sci word count mean is: {trimmed_env_df['body_word_count'].mean()}\")"
   ]
  },
  {
   "cell_type": "markdown",
   "id": "42124137-423e-4f50-867a-4aa0655996fe",
   "metadata": {},
   "source": [
    "Time to concat our dataframes before we run our train test split and begin modeling.  I'll be dropping the subreddit and created_utc columns."
   ]
  },
  {
   "cell_type": "code",
   "execution_count": 65,
   "id": "cb804129-e8a3-4200-9129-f75e320f9612",
   "metadata": {},
   "outputs": [
    {
     "data": {
      "text/html": [
       "<div>\n",
       "<style scoped>\n",
       "    .dataframe tbody tr th:only-of-type {\n",
       "        vertical-align: middle;\n",
       "    }\n",
       "\n",
       "    .dataframe tbody tr th {\n",
       "        vertical-align: top;\n",
       "    }\n",
       "\n",
       "    .dataframe thead th {\n",
       "        text-align: right;\n",
       "    }\n",
       "</style>\n",
       "<table border=\"1\" class=\"dataframe\">\n",
       "  <thead>\n",
       "    <tr style=\"text-align: right;\">\n",
       "      <th></th>\n",
       "      <th>title</th>\n",
       "      <th>selftext</th>\n",
       "      <th>body_char_count</th>\n",
       "      <th>body_word_count</th>\n",
       "      <th>title_char_count</th>\n",
       "      <th>title_word_count</th>\n",
       "      <th>target</th>\n",
       "    </tr>\n",
       "  </thead>\n",
       "  <tbody>\n",
       "    <tr>\n",
       "      <th>1</th>\n",
       "      <td>Why isn't plant communication a more popular t...</td>\n",
       "      <td>I first learned about this in my undergrad, un...</td>\n",
       "      <td>654</td>\n",
       "      <td>106</td>\n",
       "      <td>51</td>\n",
       "      <td>8</td>\n",
       "      <td>1</td>\n",
       "    </tr>\n",
       "    <tr>\n",
       "      <th>4</th>\n",
       "      <td>Video tutorial on the most important functions...</td>\n",
       "      <td>Hi everyone, just a quick follow-up to my last...</td>\n",
       "      <td>633</td>\n",
       "      <td>56</td>\n",
       "      <td>66</td>\n",
       "      <td>11</td>\n",
       "      <td>1</td>\n",
       "    </tr>\n",
       "    <tr>\n",
       "      <th>6</th>\n",
       "      <td>Can you work for a nonprofit with a masters?</td>\n",
       "      <td>I tried to see if another person had asked thi...</td>\n",
       "      <td>851</td>\n",
       "      <td>159</td>\n",
       "      <td>44</td>\n",
       "      <td>9</td>\n",
       "      <td>1</td>\n",
       "    </tr>\n",
       "    <tr>\n",
       "      <th>7</th>\n",
       "      <td>Does atmospheric humidity enter the gaseous ph...</td>\n",
       "      <td>From what I understand, the gas phase of soil ...</td>\n",
       "      <td>436</td>\n",
       "      <td>81</td>\n",
       "      <td>58</td>\n",
       "      <td>9</td>\n",
       "      <td>1</td>\n",
       "    </tr>\n",
       "    <tr>\n",
       "      <th>8</th>\n",
       "      <td>Is biological matter increasing?</td>\n",
       "      <td>As I understand it, plants and protists kick a...</td>\n",
       "      <td>396</td>\n",
       "      <td>68</td>\n",
       "      <td>32</td>\n",
       "      <td>4</td>\n",
       "      <td>1</td>\n",
       "    </tr>\n",
       "  </tbody>\n",
       "</table>\n",
       "</div>"
      ],
      "text/plain": [
       "                                               title  \\\n",
       "1  Why isn't plant communication a more popular t...   \n",
       "4  Video tutorial on the most important functions...   \n",
       "6       Can you work for a nonprofit with a masters?   \n",
       "7  Does atmospheric humidity enter the gaseous ph...   \n",
       "8                   Is biological matter increasing?   \n",
       "\n",
       "                                            selftext  body_char_count  \\\n",
       "1  I first learned about this in my undergrad, un...              654   \n",
       "4  Hi everyone, just a quick follow-up to my last...              633   \n",
       "6  I tried to see if another person had asked thi...              851   \n",
       "7  From what I understand, the gas phase of soil ...              436   \n",
       "8  As I understand it, plants and protists kick a...              396   \n",
       "\n",
       "   body_word_count  title_char_count  title_word_count  target  \n",
       "1              106                51                 8       1  \n",
       "4               56                66                11       1  \n",
       "6              159                44                 9       1  \n",
       "7               81                58                 9       1  \n",
       "8               68                32                 4       1  "
      ]
     },
     "execution_count": 65,
     "metadata": {},
     "output_type": "execute_result"
    }
   ],
   "source": [
    "combined_df = pd.concat([eco_df, env_df])\n",
    "combined_df.drop(columns=['subreddit', 'created_utc'], inplace=True)\n",
    "combined_df.head()"
   ]
  },
  {
   "cell_type": "markdown",
   "id": "21a1e75e-c401-4122-b612-0e1d98952220",
   "metadata": {},
   "source": [
    "<a id='modeling'></a>\n",
    "### Modeling\n",
    "---"
   ]
  },
  {
   "cell_type": "markdown",
   "id": "1f458421-9d98-480c-b232-0287a82e092a",
   "metadata": {},
   "source": [
    "Time to setup our X and y variables."
   ]
  },
  {
   "cell_type": "code",
   "execution_count": 66,
   "id": "bb1e52ca-0e09-4fb1-9569-4f3096502690",
   "metadata": {},
   "outputs": [],
   "source": [
    "X = combined_df['selftext']\n",
    "y = combined_df['target']"
   ]
  },
  {
   "cell_type": "code",
   "execution_count": 67,
   "id": "9b9acf76-1712-4087-b058-7d5943a3dfa9",
   "metadata": {},
   "outputs": [],
   "source": [
    "X_train, X_test, y_train, y_test = train_test_split(X, y, random_state=42, stratify=y)"
   ]
  },
  {
   "cell_type": "markdown",
   "id": "15d74f47-9c36-4897-b427-d19e7eb13a33",
   "metadata": {},
   "source": [
    "Create a new master stopwords list with both sets put together, however, leaving in words like ecology, environmental, and science."
   ]
  },
  {
   "cell_type": "code",
   "execution_count": 68,
   "id": "04149825-4772-419d-80f0-d9e1770f532e",
   "metadata": {},
   "outputs": [],
   "source": [
    "base_stop_words = nltk.corpus.stopwords.words('english')\n",
    "master_stop_words = ['www', 'https', 'com', 'amp', 'x200b', 'removed']\n",
    "add_stop_words(master_stop_words, base_stop_words)"
   ]
  },
  {
   "cell_type": "markdown",
   "id": "c9e0a702-0324-4073-a256-b3ed4210d3e8",
   "metadata": {},
   "source": [
    "Get a baseline accuracy from the mean of our target column: 50.7%"
   ]
  },
  {
   "cell_type": "code",
   "execution_count": 69,
   "id": "f7300ac8-a4cf-415a-8b3a-baa446710e1a",
   "metadata": {},
   "outputs": [
    {
     "data": {
      "text/plain": [
       "0.5071672354948805"
      ]
     },
     "execution_count": 69,
     "metadata": {},
     "output_type": "execute_result"
    }
   ],
   "source": [
    "y_test.value_counts(normalize=True)[0]"
   ]
  },
  {
   "cell_type": "markdown",
   "id": "3a6cebc4-d155-4204-b017-f0177281239a",
   "metadata": {
    "tags": []
   },
   "source": [
    "<a id='naive-bayes'></a>\n",
    "#### **Naïve Bayes**"
   ]
  },
  {
   "cell_type": "markdown",
   "id": "110bfb14-914c-4cd9-8092-597115b54f9a",
   "metadata": {},
   "source": [
    "**Model #1**\n",
    "\n",
    "Our first model will use count vectorizing with a Naïve Bayes model."
   ]
  },
  {
   "cell_type": "code",
   "execution_count": 70,
   "id": "eace5578-a09e-4245-acf3-b6dac33d3d39",
   "metadata": {},
   "outputs": [],
   "source": [
    "cvec_pipe = Pipeline([\n",
    "    ('cvec', CountVectorizer()),\n",
    "    ('nb', MultinomialNB())\n",
    "])\n",
    "\n",
    "cvec_pipe_params = {\n",
    "    'cvec__max_features': [None, 3000, 4000, 5000],\n",
    "    'cvec__stop_words': [None, master_stop_words],\n",
    "    'cvec__min_df': [2, 3],\n",
    "    'cvec__ngram_range': [(1,1), (1,2)]\n",
    "}"
   ]
  },
  {
   "cell_type": "code",
   "execution_count": 71,
   "id": "cae8e4b7-88a6-4213-90aa-aa3dba803ed1",
   "metadata": {},
   "outputs": [
    {
     "name": "stdout",
     "output_type": "stream",
     "text": [
      "{'cvec__max_features': None, 'cvec__min_df': 3, 'cvec__ngram_range': (1, 2), 'cvec__stop_words': ['www', 'https', 'com', 'amp', 'x200b', 'removed', 'i', 'me', 'my', 'myself', 'we', 'our', 'ours', 'ourselves', 'you', \"you're\", \"you've\", \"you'll\", \"you'd\", 'your', 'yours', 'yourself', 'yourselves', 'he', 'him', 'his', 'himself', 'she', \"she's\", 'her', 'hers', 'herself', 'it', \"it's\", 'its', 'itself', 'they', 'them', 'their', 'theirs', 'themselves', 'what', 'which', 'who', 'whom', 'this', 'that', \"that'll\", 'these', 'those', 'am', 'is', 'are', 'was', 'were', 'be', 'been', 'being', 'have', 'has', 'had', 'having', 'do', 'does', 'did', 'doing', 'a', 'an', 'the', 'and', 'but', 'if', 'or', 'because', 'as', 'until', 'while', 'of', 'at', 'by', 'for', 'with', 'about', 'against', 'between', 'into', 'through', 'during', 'before', 'after', 'above', 'below', 'to', 'from', 'up', 'down', 'in', 'out', 'on', 'off', 'over', 'under', 'again', 'further', 'then', 'once', 'here', 'there', 'when', 'where', 'why', 'how', 'all', 'any', 'both', 'each', 'few', 'more', 'most', 'other', 'some', 'such', 'no', 'nor', 'not', 'only', 'own', 'same', 'so', 'than', 'too', 'very', 's', 't', 'can', 'will', 'just', 'don', \"don't\", 'should', \"should've\", 'now', 'd', 'll', 'm', 'o', 're', 've', 'y', 'ain', 'aren', \"aren't\", 'couldn', \"couldn't\", 'didn', \"didn't\", 'doesn', \"doesn't\", 'hadn', \"hadn't\", 'hasn', \"hasn't\", 'haven', \"haven't\", 'isn', \"isn't\", 'ma', 'mightn', \"mightn't\", 'mustn', \"mustn't\", 'needn', \"needn't\", 'shan', \"shan't\", 'shouldn', \"shouldn't\", 'wasn', \"wasn't\", 'weren', \"weren't\", 'won', \"won't\", 'wouldn', \"wouldn't\"]}\n",
      "0.767182110547034\n"
     ]
    }
   ],
   "source": [
    "gs_cvec = GridSearchCV(\n",
    "    cvec_pipe,\n",
    "    param_grid = cvec_pipe_params,\n",
    "    cv=5,\n",
    "    n_jobs=-1\n",
    ")\n",
    "\n",
    "gs_cvec.fit(X_train, y_train)\n",
    "print(gs_cvec.best_params_)\n",
    "print(gs_cvec.best_score_)"
   ]
  },
  {
   "cell_type": "markdown",
   "id": "9d8a4edc-18ca-41ea-8b38-030dd0b04924",
   "metadata": {},
   "source": [
    "Our score for a cvec/NB model is 77.5%."
   ]
  },
  {
   "cell_type": "code",
   "execution_count": 72,
   "id": "f7078f39-3f10-4bc4-8773-786e52e3e0d2",
   "metadata": {},
   "outputs": [
    {
     "data": {
      "text/plain": [
       "0.7747440273037542"
      ]
     },
     "execution_count": 72,
     "metadata": {},
     "output_type": "execute_result"
    }
   ],
   "source": [
    "gs_cvec.score(X_test, y_test)"
   ]
  },
  {
   "cell_type": "markdown",
   "id": "30d093af-792e-4725-82b7-53a6bc2dd51d",
   "metadata": {},
   "source": [
    "**Model #2**\n",
    "\n",
    "Our second model will use TF-IDF vectorizing and utilize a Naïve Bayes model."
   ]
  },
  {
   "cell_type": "code",
   "execution_count": 73,
   "id": "090a14fe-212f-44eb-9f89-8d27165a9ca2",
   "metadata": {},
   "outputs": [],
   "source": [
    "tvec = TfidfVectorizer()\n",
    "\n",
    "pipe_tvec = Pipeline([\n",
    "    ('tvec', TfidfVectorizer()),\n",
    "    ('nb', MultinomialNB()),\n",
    "])\n",
    "\n",
    "pipe_params = {\n",
    "    'tvec__max_features': [None, 5000, 6000, 7000],\n",
    "    'tvec__stop_words': [None, master_stop_words],\n",
    "    'tvec__min_df': [2, 3],\n",
    "    'tvec__ngram_range': [(1,1), (1,2)]\n",
    "}"
   ]
  },
  {
   "cell_type": "markdown",
   "id": "dfb3402c-e021-4817-abff-82855e1fce8a",
   "metadata": {},
   "source": [
    "Our best parameters for the NB model are:\n",
    "1. Max features: None\n",
    "    - I intially ommited the default `max_features` setting and only using 5000 - 7000 thinking more would be better but it appears the algorithm is smarter than I gave it credit for, performing best with the default.\n",
    "2. Min_df: 3\n",
    "    - Nothing shocking here, this ensures repeated words bear more importance to our model\n",
    "3. N-gram range: 1, 2\n",
    "    - Slightly surprised, but not really.  Two word pairs didn't help our predictive power much here.\n",
    "4. Stop words: master_stop_words\n",
    "    - Our custom stop words list performed the best"
   ]
  },
  {
   "cell_type": "code",
   "execution_count": 74,
   "id": "43748c2b-412c-4dc9-b3d0-94e191b0fcb3",
   "metadata": {},
   "outputs": [
    {
     "name": "stdout",
     "output_type": "stream",
     "text": [
      "{'tvec__max_features': None, 'tvec__min_df': 3, 'tvec__ngram_range': (1, 2), 'tvec__stop_words': ['www', 'https', 'com', 'amp', 'x200b', 'removed', 'i', 'me', 'my', 'myself', 'we', 'our', 'ours', 'ourselves', 'you', \"you're\", \"you've\", \"you'll\", \"you'd\", 'your', 'yours', 'yourself', 'yourselves', 'he', 'him', 'his', 'himself', 'she', \"she's\", 'her', 'hers', 'herself', 'it', \"it's\", 'its', 'itself', 'they', 'them', 'their', 'theirs', 'themselves', 'what', 'which', 'who', 'whom', 'this', 'that', \"that'll\", 'these', 'those', 'am', 'is', 'are', 'was', 'were', 'be', 'been', 'being', 'have', 'has', 'had', 'having', 'do', 'does', 'did', 'doing', 'a', 'an', 'the', 'and', 'but', 'if', 'or', 'because', 'as', 'until', 'while', 'of', 'at', 'by', 'for', 'with', 'about', 'against', 'between', 'into', 'through', 'during', 'before', 'after', 'above', 'below', 'to', 'from', 'up', 'down', 'in', 'out', 'on', 'off', 'over', 'under', 'again', 'further', 'then', 'once', 'here', 'there', 'when', 'where', 'why', 'how', 'all', 'any', 'both', 'each', 'few', 'more', 'most', 'other', 'some', 'such', 'no', 'nor', 'not', 'only', 'own', 'same', 'so', 'than', 'too', 'very', 's', 't', 'can', 'will', 'just', 'don', \"don't\", 'should', \"should've\", 'now', 'd', 'll', 'm', 'o', 're', 've', 'y', 'ain', 'aren', \"aren't\", 'couldn', \"couldn't\", 'didn', \"didn't\", 'doesn', \"doesn't\", 'hadn', \"hadn't\", 'hasn', \"hasn't\", 'haven', \"haven't\", 'isn', \"isn't\", 'ma', 'mightn', \"mightn't\", 'mustn', \"mustn't\", 'needn', \"needn't\", 'shan', \"shan't\", 'shouldn', \"shouldn't\", 'wasn', \"wasn't\", 'weren', \"weren't\", 'won', \"won't\", 'wouldn', \"wouldn't\"]}\n",
      "0.7960845441988593\n"
     ]
    }
   ],
   "source": [
    "gs_tvec = GridSearchCV(\n",
    "    pipe_tvec,\n",
    "    param_grid = pipe_params,\n",
    "    cv=5,\n",
    "    n_jobs=-1\n",
    ")\n",
    "\n",
    "gs_tvec.fit(X_train, y_train)\n",
    "print(gs_tvec.best_params_)\n",
    "print(gs_tvec.best_score_)"
   ]
  },
  {
   "cell_type": "markdown",
   "id": "71fce0bb-513c-48b1-857d-709e10e46d10",
   "metadata": {},
   "source": [
    "Time to score our test set, 79.9% "
   ]
  },
  {
   "cell_type": "code",
   "execution_count": 75,
   "id": "8d4411ef-9e81-4e11-b49e-6b9049b9fc4b",
   "metadata": {},
   "outputs": [
    {
     "data": {
      "text/plain": [
       "0.7972696245733788"
      ]
     },
     "execution_count": 75,
     "metadata": {},
     "output_type": "execute_result"
    }
   ],
   "source": [
    "gs_tvec.score(X_test, y_test)"
   ]
  },
  {
   "cell_type": "markdown",
   "id": "aa9f94eb-c31d-45dc-ac98-d71477e48019",
   "metadata": {
    "tags": []
   },
   "source": [
    "<a id='random-forest'></a>\n",
    "#### **Random Forest Model**"
   ]
  },
  {
   "cell_type": "markdown",
   "id": "e6083994-ccc5-46b2-80bf-62782730bb29",
   "metadata": {},
   "source": [
    "**Model #3**\n",
    "\n",
    "Our third model will be a random forest with count vectorizer."
   ]
  },
  {
   "cell_type": "code",
   "execution_count": 76,
   "id": "e78cead1-cc80-434e-a064-b35ce74511bd",
   "metadata": {},
   "outputs": [],
   "source": [
    "rf = RandomForestClassifier()"
   ]
  },
  {
   "cell_type": "code",
   "execution_count": 77,
   "id": "dce8af04-c464-4bdc-9dae-a1889568aba3",
   "metadata": {},
   "outputs": [],
   "source": [
    "cvec_pipe_2 = Pipeline([\n",
    "    ('cvec', CountVectorizer()),\n",
    "    ('rf', RandomForestClassifier())\n",
    "])"
   ]
  },
  {
   "cell_type": "code",
   "execution_count": 82,
   "id": "698f25e7-74b0-4615-a9ce-57125b2c7756",
   "metadata": {},
   "outputs": [],
   "source": [
    "cvec_pipe_params = [{\n",
    "    'cvec__max_features': [None, 5000, 6000, 7000],\n",
    "    'cvec__stop_words': [None, master_stop_words],\n",
    "    'cvec__min_df': [2, 3],\n",
    "    'cvec__ngram_range': [(1,1), (1,2)]\n",
    "},\n",
    "{\n",
    "    'rf__n_estimators': [250, 300, 350],\n",
    "    'rf__max_depth': [None, 1, 2, 3],\n",
    "    'rf__max_features': ['sqrt', .5]\n",
    "}]"
   ]
  },
  {
   "cell_type": "markdown",
   "id": "54b8cdd6-7aa5-49c0-9cb8-a12cf1711013",
   "metadata": {},
   "source": [
    "Our best parameters for the random forest model are:\n",
    "1. N-estimators: 250\n",
    "2. Max depth: None (default)\n",
    "3. Max features: .5"
   ]
  },
  {
   "cell_type": "code",
   "execution_count": 83,
   "id": "6b5535b3-b514-4e72-bcaf-13fb8003afe7",
   "metadata": {},
   "outputs": [
    {
     "name": "stdout",
     "output_type": "stream",
     "text": [
      "Fitting 5 folds for each of 44 candidates, totalling 220 fits\n",
      "0.7994985500711359\n",
      "{'rf__max_depth': None, 'rf__max_features': 0.5, 'rf__n_estimators': 350}\n"
     ]
    }
   ],
   "source": [
    "gs_cvec_2 = GridSearchCV(cvec_pipe_2, param_grid=cvec_pipe_params, cv=5, n_jobs=-1, verbose=1)\n",
    "gs_cvec_2.fit(X_train, y_train)\n",
    "print(gs_cvec_2.best_score_)\n",
    "print(gs_cvec_2.best_params_)"
   ]
  },
  {
   "cell_type": "markdown",
   "id": "4793ea1b-3bf2-4aaa-aaba-41942974d433",
   "metadata": {},
   "source": [
    "Random forest with cvec seems to be our best model so far with a score of 80.4%"
   ]
  },
  {
   "cell_type": "code",
   "execution_count": 94,
   "id": "3d79139e-7c73-4272-a749-a9960a93baf5",
   "metadata": {},
   "outputs": [
    {
     "data": {
      "text/plain": [
       "0.8061433447098976"
      ]
     },
     "execution_count": 94,
     "metadata": {},
     "output_type": "execute_result"
    }
   ],
   "source": [
    "gs_cvec_2.score(X_test, y_test)"
   ]
  },
  {
   "cell_type": "markdown",
   "id": "2e66fcda-b81e-4a7e-aabd-61ba074dd00e",
   "metadata": {},
   "source": [
    "**Model #4**"
   ]
  },
  {
   "cell_type": "markdown",
   "id": "1a2c8158-aa5c-43f9-a38d-bbd71742f724",
   "metadata": {},
   "source": [
    "Our fourth model will be another random forest but we'll use TF-IDF this time."
   ]
  },
  {
   "cell_type": "code",
   "execution_count": 53,
   "id": "0860a785-6dc4-4f4a-aafb-39e384f66bfa",
   "metadata": {},
   "outputs": [],
   "source": [
    "tvec_pipe_2 = Pipeline([\n",
    "    ('tvec', TfidfVectorizer()),\n",
    "    ('rf', RandomForestClassifier())\n",
    "])"
   ]
  },
  {
   "cell_type": "code",
   "execution_count": 54,
   "id": "f366933f-3810-4a59-932e-8e56904df863",
   "metadata": {},
   "outputs": [],
   "source": [
    "tvec_pipe_params_2 = [{\n",
    "    'tvec__max_features': [None, 5000, 6000, 7000],\n",
    "    'tvec__stop_words': [None, master_stop_words],\n",
    "    'tvec__min_df': [2, 3],\n",
    "    'tvec__ngram_range': [(1,1), (1,2)]\n",
    "},\n",
    "{\n",
    "    'rf__n_estimators': [100, 150, 200, 250],\n",
    "    'rf__max_depth': [None, 1, 2, 3],\n",
    "    'rf__max_features': ['sqrt', 'log2', .5],\n",
    "    'rf__min_impurity_decrease': [0, .025],\n",
    "}]"
   ]
  },
  {
   "cell_type": "code",
   "execution_count": 55,
   "id": "594183e0-31d5-4c1f-8fe6-8154d14a8d68",
   "metadata": {},
   "outputs": [
    {
     "name": "stdout",
     "output_type": "stream",
     "text": [
      "Fitting 5 folds for each of 128 candidates, totalling 640 fits\n",
      "0.7974492136176696\n",
      "{'rf__max_depth': None, 'rf__max_features': 0.5, 'rf__min_impurity_decrease': 0, 'rf__n_estimators': 100}\n"
     ]
    }
   ],
   "source": [
    "gs_tvec_2 = GridSearchCV(tvec_pipe_2, param_grid=tvec_pipe_params_2, cv=5, n_jobs=-1, verbose=1)\n",
    "gs_tvec_2.fit(X_train, y_train)\n",
    "print(gs_tvec_2.best_score_)\n",
    "print(gs_tvec_2.best_params_)"
   ]
  },
  {
   "cell_type": "markdown",
   "id": "b7ac5d53-a8f8-4e7a-a925-1fd2d395e3e6",
   "metadata": {},
   "source": [
    "About even with our first random forest, slightly worse with an 80.4%."
   ]
  },
  {
   "cell_type": "code",
   "execution_count": 56,
   "id": "7809f46a-1457-4259-8398-d9355617d896",
   "metadata": {},
   "outputs": [
    {
     "data": {
      "text/plain": [
       "0.8006825938566553"
      ]
     },
     "execution_count": 56,
     "metadata": {},
     "output_type": "execute_result"
    }
   ],
   "source": [
    "gs_tvec_2.score(X_test, y_test)"
   ]
  },
  {
   "cell_type": "markdown",
   "id": "5ecd901f-1ca8-4950-ae46-c54e89e69896",
   "metadata": {},
   "source": [
    "<a id='svm'></a>\n",
    "#### **SVM**"
   ]
  },
  {
   "cell_type": "markdown",
   "id": "7f4d8bf2-0a5b-4318-9f1a-db884cba904b",
   "metadata": {},
   "source": [
    "**Model #5**\n",
    "\n",
    "We will build a support vector machine model with cvec."
   ]
  },
  {
   "cell_type": "code",
   "execution_count": 63,
   "id": "df31843c-f2d4-42f7-8976-07f0ab17b3e2",
   "metadata": {},
   "outputs": [],
   "source": [
    "svc_pipe = Pipeline([\n",
    "    ('cvec', CountVectorizer()),\n",
    "    ('svc', SVC())\n",
    "])"
   ]
  },
  {
   "cell_type": "code",
   "execution_count": 65,
   "id": "c21b55c0-e57b-442e-9534-21b9bb20191f",
   "metadata": {},
   "outputs": [
    {
     "name": "stdout",
     "output_type": "stream",
     "text": [
      "Fitting 5 folds for each of 264 candidates, totalling 1320 fits\n",
      "0.7894853594761079\n",
      "{'cvec__max_features': None, 'cvec__min_df': 2, 'cvec__ngram_range': (1, 1), 'cvec__stop_words': None}\n"
     ]
    }
   ],
   "source": [
    "svc_params = [{\n",
    "    'svc__C': np.linspace(0.0001, 1, 20),\n",
    "    'svc__kernel': ['rbf', 'poly', 'sigmoid'],\n",
    "    'svc__degree': [2, 3],\n",
    "    'svc__gamma': ['scale', 'auto']\n",
    "},\n",
    "{\n",
    "    'cvec__max_features': [None, 5000, 6000],\n",
    "    'cvec__stop_words': [None, master_stop_words],\n",
    "    'cvec__min_df': [2, 3],\n",
    "    'cvec__ngram_range': [(1,1), (1,2)]\n",
    "}]\n",
    "\n",
    "svc_gs = GridSearchCV(svc_pipe, svc_params, cv=5, n_jobs=-1, verbose=1)\n",
    "\n",
    "svc_gs.fit(X_train, y_train)\n",
    "\n",
    "print(svc_gs.best_score_)\n",
    "print(svc_gs.best_params_)"
   ]
  },
  {
   "cell_type": "markdown",
   "id": "2db57333-4532-440a-9873-90050288e7c4",
   "metadata": {},
   "source": [
    "This model took a long time to run and unfortunately didn't yield any meaningful increase in score."
   ]
  },
  {
   "cell_type": "code",
   "execution_count": 67,
   "id": "1755c55b-1ffc-4a80-9cba-b6b7147fb37f",
   "metadata": {},
   "outputs": [
    {
     "data": {
      "text/plain": [
       "0.7890784982935154"
      ]
     },
     "execution_count": 67,
     "metadata": {},
     "output_type": "execute_result"
    }
   ],
   "source": [
    "svc_gs.score(X_test, y_test)"
   ]
  },
  {
   "cell_type": "markdown",
   "id": "a585bfbc-c11e-49cb-8ae1-2303a5182d8a",
   "metadata": {},
   "source": [
    "**BONUS**"
   ]
  },
  {
   "cell_type": "markdown",
   "id": "3d2188fc-7911-4d91-8f98-1c49f3e2eaac",
   "metadata": {},
   "source": [
    "All of the above models used body text, I want to see how our best performing model, random forest with cvec, will do using title text."
   ]
  },
  {
   "cell_type": "code",
   "execution_count": 70,
   "id": "90f57e24-a8cc-4c13-9ebc-9430f945782b",
   "metadata": {},
   "outputs": [],
   "source": [
    "X2 = combined_df['title']\n",
    "y2 = combined_df['target']"
   ]
  },
  {
   "cell_type": "code",
   "execution_count": 71,
   "id": "6fe1dcfe-71ef-4917-8477-ff1e787506ef",
   "metadata": {},
   "outputs": [],
   "source": [
    "X_train, X_test, y_train, y_test = train_test_split(X, y, random_state=42, stratify=y)"
   ]
  },
  {
   "cell_type": "code",
   "execution_count": 72,
   "id": "613a5d69-16bf-48fb-b371-7953e8e6e63b",
   "metadata": {},
   "outputs": [],
   "source": [
    "title_cvec_pipe = Pipeline([\n",
    "    ('cvec', CountVectorizer()),\n",
    "    ('rf', RandomForestClassifier())\n",
    "])"
   ]
  },
  {
   "cell_type": "code",
   "execution_count": 73,
   "id": "b910112b-d2ca-45c7-a41d-d300973a8f45",
   "metadata": {},
   "outputs": [],
   "source": [
    "title_cvec_pipe_params = [{\n",
    "    'cvec__max_features': [None, 5000, 6000],\n",
    "    'cvec__stop_words': [None, master_stop_words],\n",
    "    'cvec__min_df': [2, 3],\n",
    "    'cvec__ngram_range': [(1,1), (1,2)]\n",
    "},\n",
    "{\n",
    "    'rf__n_estimators': [100, 150, 200, 250],\n",
    "    'rf__max_depth': [None, 1, 2, 3],\n",
    "    'rf__max_features': ['sqrt', 'log2', .5],\n",
    "    'rf__min_impurity_decrease': [0, .025],\n",
    "}]"
   ]
  },
  {
   "cell_type": "code",
   "execution_count": 74,
   "id": "a7eac875-f51f-464c-a5b3-6d264164d186",
   "metadata": {},
   "outputs": [
    {
     "name": "stdout",
     "output_type": "stream",
     "text": [
      "Fitting 5 folds for each of 120 candidates, totalling 600 fits\n",
      "0.7992705004910841\n",
      "{'rf__max_depth': None, 'rf__max_features': 0.5, 'rf__min_impurity_decrease': 0, 'rf__n_estimators': 200}\n"
     ]
    }
   ],
   "source": [
    "title_cvec = GridSearchCV(title_cvec_pipe, param_grid=title_cvec_pipe_params, cv=5, n_jobs=-1, verbose=1)\n",
    "title_cvec.fit(X_train, y_train)\n",
    "print(title_cvec.best_score_)\n",
    "print(title_cvec.best_params_)"
   ]
  },
  {
   "cell_type": "markdown",
   "id": "67fecc34-e340-463f-8357-5b9b8ebf4370",
   "metadata": {},
   "source": [
    "Looks like this model is about on par with it's body text cousin with a score of 80.5%."
   ]
  },
  {
   "cell_type": "code",
   "execution_count": 75,
   "id": "55a84ba0-8b60-42ca-b727-5d7c1c0d8283",
   "metadata": {},
   "outputs": [
    {
     "data": {
      "text/plain": [
       "0.8054607508532423"
      ]
     },
     "execution_count": 75,
     "metadata": {},
     "output_type": "execute_result"
    }
   ],
   "source": [
    "title_cvec.score(X_test, y_test)"
   ]
  },
  {
   "cell_type": "markdown",
   "id": "c5cfd3c5-9f6f-4138-8780-5d009506e3a3",
   "metadata": {},
   "source": [
    "<a id='scoring-and-evaluation'></a>\n",
    "### Scoring and Evaluation\n",
    "---"
   ]
  },
  {
   "cell_type": "markdown",
   "id": "e17333b8-db6f-4703-b1d1-3253de9d5788",
   "metadata": {},
   "source": [
    "Our best model used count vectorizing and a random forest. I will evaluate and score it below with a confusion matrix."
   ]
  },
  {
   "cell_type": "code",
   "execution_count": 89,
   "id": "e301d024-92ff-44d5-8259-75485eb0443b",
   "metadata": {},
   "outputs": [
    {
     "data": {
      "text/plain": [
       "0.8040955631399317"
      ]
     },
     "execution_count": 89,
     "metadata": {},
     "output_type": "execute_result"
    }
   ],
   "source": [
    "gs_cvec_2.score(X_test, y_test)"
   ]
  },
  {
   "cell_type": "code",
   "execution_count": 86,
   "id": "8d7748a5-39a2-4c41-91f3-ba1ec960f179",
   "metadata": {},
   "outputs": [
    {
     "data": {
      "image/png": "[encoded data removed]",
      "text/plain": [
       "<Figure size 432x288 with 2 Axes>"
      ]
     },
     "metadata": {
      "needs_background": "light"
     },
     "output_type": "display_data"
    }
   ],
   "source": [
    "preds = gs_cvec_2.predict(X_test)\n",
    "\n",
    "tn, fp, fn, tp = confusion_matrix(y_test, preds).ravel()\n",
    "\n",
    "plot_confusion_matrix(gs_cvec_2, X_test, y_test, cmap='Blues', values_format='d');"
   ]
  },
  {
   "cell_type": "markdown",
   "id": "10d343cd-7866-43b2-b97c-d2a6db00cfd5",
   "metadata": {},
   "source": [
    "1. Accuracy: 80.4%\n",
    "    - Acceptable, I'd be curious if a KNN or logistic regression would possibly up our accuracy.\n",
    "2. Precision: 78.7%\n",
    "    - Our lowest metric, but I'm ok with that since it's of lease concern to us for what we're using the model for.\n",
    "3. Recall: 82.5%\n",
    "    - I'm happy with this score since it's our model's ability to find all positive samples."
   ]
  },
  {
   "cell_type": "code",
   "execution_count": 87,
   "id": "922aa311-86ee-41b0-bdba-864da1764b78",
   "metadata": {},
   "outputs": [
    {
     "name": "stdout",
     "output_type": "stream",
     "text": [
      "Model accuracy is: 0.8061433447098976\n",
      "Model precision is: 0.7904509283819628\n",
      "Model recall is: 0.8254847645429363\n"
     ]
    }
   ],
   "source": [
    "print('Model accuracy is:', metrics.accuracy_score(y_test, preds))\n",
    "print('Model precision is:', metrics.precision_score(y_test, preds))\n",
    "print('Model recall is:', metrics.recall_score(y_test, preds))"
   ]
  },
  {
   "cell_type": "markdown",
   "id": "57074e7a-43c7-4563-a4b3-f71f9fd45df7",
   "metadata": {},
   "source": [
    "<a id='conclusion-and-inferences'></a>\n",
    "### Conclusion and Inferences\n",
    "---"
   ]
  },
  {
   "cell_type": "markdown",
   "id": "a1aff184-e9e9-40f2-9062-2806241fc951",
   "metadata": {},
   "source": [
    "**Conclusion**\n",
    "\n",
    "All scores surpassed our null hypothesis fo 50.7 with a satisfactory overall accuracy of 80.4 and recall of 82.5.\n",
    "\n",
    "With additional posts I think we could possibly squeeze a bit more performance out of our models, however, if we call the EDA there were a lot of similarities in our posts so 80.4% accuracy is great.  Perhaps a KNN or logisitic regression would perform better but with the time allotted and how resource/time intensive running some of these gridsearches is, we're going to stick with this single model for now.\n",
    "\n",
    "**Inferences**\n",
    "\n",
    "From our intial EDA we observed that both subreddits have a large number of posts pertaining to questions about jobs/work as well as questions about higher education in the fields of ecology and environmental science.  From our NLP, it appears that that the environmental science subreddit tends to be slightly more focused on work and educational endeavors where as the ecology subreddit has more posts about research, field experience, and plant and animal species."
   ]
  }
 ],
 "metadata": {
  "kernelspec": {
   "display_name": "Python [conda env:dsi] *",
   "language": "python",
   "name": "conda-env-dsi-py"
  },
  "language_info": {
   "codemirror_mode": {
    "name": "ipython",
    "version": 3
   },
   "file_extension": ".py",
   "mimetype": "text/x-python",
   "name": "python",
   "nbconvert_exporter": "python",
   "pygments_lexer": "ipython3",
   "version": "3.8.8"
  }
 },
 "nbformat": 4,
 "nbformat_minor": 5
}
